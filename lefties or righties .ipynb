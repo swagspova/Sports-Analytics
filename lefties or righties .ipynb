{
 "cells": [
  {
   "cell_type": "code",
   "execution_count": 1,
   "id": "e1b91ce1-d334-4ea8-ad25-c0913b3abf88",
   "metadata": {},
   "outputs": [],
   "source": [
    "import numpy as np\n",
    "import pandas as pd"
   ]
  },
  {
   "cell_type": "code",
   "execution_count": 2,
   "id": "8360987c-8372-40d2-8214-9c094bdbee35",
   "metadata": {},
   "outputs": [],
   "source": [
    "import matplotlib.pyplot as plt"
   ]
  },
  {
   "cell_type": "code",
   "execution_count": 3,
   "id": "34b23258-9365-4376-b7ae-36e642dd3174",
   "metadata": {},
   "outputs": [
    {
     "data": {
      "text/html": [
       "<div>\n",
       "<style scoped>\n",
       "    .dataframe tbody tr th:only-of-type {\n",
       "        vertical-align: middle;\n",
       "    }\n",
       "\n",
       "    .dataframe tbody tr th {\n",
       "        vertical-align: top;\n",
       "    }\n",
       "\n",
       "    .dataframe thead th {\n",
       "        text-align: right;\n",
       "    }\n",
       "</style>\n",
       "<table border=\"1\" class=\"dataframe\">\n",
       "  <thead>\n",
       "    <tr style=\"text-align: right;\">\n",
       "      <th></th>\n",
       "      <th>tourney_id</th>\n",
       "      <th>tourney_name</th>\n",
       "      <th>surface</th>\n",
       "      <th>draw_size</th>\n",
       "      <th>tourney_level</th>\n",
       "      <th>tourney_date</th>\n",
       "      <th>match_num</th>\n",
       "      <th>winner_id</th>\n",
       "      <th>winner_seed</th>\n",
       "      <th>winner_entry</th>\n",
       "      <th>...</th>\n",
       "      <th>l_1stIn</th>\n",
       "      <th>l_1stWon</th>\n",
       "      <th>l_2ndWon</th>\n",
       "      <th>l_SvGms</th>\n",
       "      <th>l_bpSaved</th>\n",
       "      <th>l_bpFaced</th>\n",
       "      <th>winner_rank</th>\n",
       "      <th>winner_rank_points</th>\n",
       "      <th>loser_rank</th>\n",
       "      <th>loser_rank_points</th>\n",
       "    </tr>\n",
       "  </thead>\n",
       "  <tbody>\n",
       "    <tr>\n",
       "      <th>0</th>\n",
       "      <td>2023-9900</td>\n",
       "      <td>United Cup</td>\n",
       "      <td>Hard</td>\n",
       "      <td>18</td>\n",
       "      <td>I</td>\n",
       "      <td>20230102</td>\n",
       "      <td>298</td>\n",
       "      <td>202468</td>\n",
       "      <td>NaN</td>\n",
       "      <td>NaN</td>\n",
       "      <td>...</td>\n",
       "      <td>43.0</td>\n",
       "      <td>20.0</td>\n",
       "      <td>12.0</td>\n",
       "      <td>9.0</td>\n",
       "      <td>3.0</td>\n",
       "      <td>9.0</td>\n",
       "      <td>3.0</td>\n",
       "      <td>4691.0</td>\n",
       "      <td>27.0</td>\n",
       "      <td>1528.0</td>\n",
       "    </tr>\n",
       "    <tr>\n",
       "      <th>1</th>\n",
       "      <td>2023-9900</td>\n",
       "      <td>United Cup</td>\n",
       "      <td>Hard</td>\n",
       "      <td>18</td>\n",
       "      <td>I</td>\n",
       "      <td>20230102</td>\n",
       "      <td>297</td>\n",
       "      <td>201619</td>\n",
       "      <td>NaN</td>\n",
       "      <td>NaN</td>\n",
       "      <td>...</td>\n",
       "      <td>32.0</td>\n",
       "      <td>14.0</td>\n",
       "      <td>6.0</td>\n",
       "      <td>8.0</td>\n",
       "      <td>5.0</td>\n",
       "      <td>11.0</td>\n",
       "      <td>11.0</td>\n",
       "      <td>2417.0</td>\n",
       "      <td>54.0</td>\n",
       "      <td>951.0</td>\n",
       "    </tr>\n",
       "    <tr>\n",
       "      <th>2</th>\n",
       "      <td>2023-9900</td>\n",
       "      <td>United Cup</td>\n",
       "      <td>Hard</td>\n",
       "      <td>18</td>\n",
       "      <td>I</td>\n",
       "      <td>20230102</td>\n",
       "      <td>294</td>\n",
       "      <td>202468</td>\n",
       "      <td>NaN</td>\n",
       "      <td>NaN</td>\n",
       "      <td>...</td>\n",
       "      <td>26.0</td>\n",
       "      <td>10.0</td>\n",
       "      <td>5.0</td>\n",
       "      <td>8.0</td>\n",
       "      <td>2.0</td>\n",
       "      <td>7.0</td>\n",
       "      <td>3.0</td>\n",
       "      <td>4691.0</td>\n",
       "      <td>1.0</td>\n",
       "      <td>11085.0</td>\n",
       "    </tr>\n",
       "    <tr>\n",
       "      <th>3</th>\n",
       "      <td>2023-9900</td>\n",
       "      <td>United Cup</td>\n",
       "      <td>Hard</td>\n",
       "      <td>18</td>\n",
       "      <td>I</td>\n",
       "      <td>20230102</td>\n",
       "      <td>293</td>\n",
       "      <td>201619</td>\n",
       "      <td>NaN</td>\n",
       "      <td>NaN</td>\n",
       "      <td>...</td>\n",
       "      <td>47.0</td>\n",
       "      <td>29.0</td>\n",
       "      <td>5.0</td>\n",
       "      <td>9.0</td>\n",
       "      <td>4.0</td>\n",
       "      <td>8.0</td>\n",
       "      <td>11.0</td>\n",
       "      <td>2417.0</td>\n",
       "      <td>48.0</td>\n",
       "      <td>1030.0</td>\n",
       "    </tr>\n",
       "    <tr>\n",
       "      <th>4</th>\n",
       "      <td>2023-9900</td>\n",
       "      <td>United Cup</td>\n",
       "      <td>Hard</td>\n",
       "      <td>18</td>\n",
       "      <td>I</td>\n",
       "      <td>20230102</td>\n",
       "      <td>290</td>\n",
       "      <td>203354</td>\n",
       "      <td>NaN</td>\n",
       "      <td>NaN</td>\n",
       "      <td>...</td>\n",
       "      <td>53.0</td>\n",
       "      <td>37.0</td>\n",
       "      <td>22.0</td>\n",
       "      <td>17.0</td>\n",
       "      <td>2.0</td>\n",
       "      <td>9.0</td>\n",
       "      <td>27.0</td>\n",
       "      <td>1528.0</td>\n",
       "      <td>6.0</td>\n",
       "      <td>3871.0</td>\n",
       "    </tr>\n",
       "  </tbody>\n",
       "</table>\n",
       "<p>5 rows × 49 columns</p>\n",
       "</div>"
      ],
      "text/plain": [
       "  tourney_id tourney_name surface  draw_size tourney_level  tourney_date  \\\n",
       "0  2023-9900   United Cup    Hard         18             I      20230102   \n",
       "1  2023-9900   United Cup    Hard         18             I      20230102   \n",
       "2  2023-9900   United Cup    Hard         18             I      20230102   \n",
       "3  2023-9900   United Cup    Hard         18             I      20230102   \n",
       "4  2023-9900   United Cup    Hard         18             I      20230102   \n",
       "\n",
       "   match_num  winner_id  winner_seed winner_entry  ... l_1stIn l_1stWon  \\\n",
       "0        298     202468          NaN          NaN  ...    43.0     20.0   \n",
       "1        297     201619          NaN          NaN  ...    32.0     14.0   \n",
       "2        294     202468          NaN          NaN  ...    26.0     10.0   \n",
       "3        293     201619          NaN          NaN  ...    47.0     29.0   \n",
       "4        290     203354          NaN          NaN  ...    53.0     37.0   \n",
       "\n",
       "   l_2ndWon l_SvGms  l_bpSaved  l_bpFaced  winner_rank winner_rank_points  \\\n",
       "0      12.0     9.0        3.0        9.0          3.0             4691.0   \n",
       "1       6.0     8.0        5.0       11.0         11.0             2417.0   \n",
       "2       5.0     8.0        2.0        7.0          3.0             4691.0   \n",
       "3       5.0     9.0        4.0        8.0         11.0             2417.0   \n",
       "4      22.0    17.0        2.0        9.0         27.0             1528.0   \n",
       "\n",
       "  loser_rank loser_rank_points  \n",
       "0       27.0            1528.0  \n",
       "1       54.0             951.0  \n",
       "2        1.0           11085.0  \n",
       "3       48.0            1030.0  \n",
       "4        6.0            3871.0  \n",
       "\n",
       "[5 rows x 49 columns]"
      ]
     },
     "execution_count": 3,
     "metadata": {},
     "output_type": "execute_result"
    }
   ],
   "source": [
    "wta = pd.read_csv('wta_matches_2023.csv')\n",
    "\n",
    "wta.head()"
   ]
  },
  {
   "cell_type": "code",
   "execution_count": 4,
   "id": "f36e9e51-cb4d-4732-a7d5-69b71bf1abca",
   "metadata": {},
   "outputs": [
    {
     "data": {
      "text/plain": [
       "Index(['tourney_id', 'tourney_name', 'surface', 'draw_size', 'tourney_level',\n",
       "       'tourney_date', 'match_num', 'winner_id', 'winner_seed', 'winner_entry',\n",
       "       'winner_name', 'winner_hand', 'winner_ht', 'winner_ioc', 'winner_age',\n",
       "       'loser_id', 'loser_seed', 'loser_entry', 'loser_name', 'loser_hand',\n",
       "       'loser_ht', 'loser_ioc', 'loser_age', 'score', 'best_of', 'round',\n",
       "       'minutes', 'w_ace', 'w_df', 'w_svpt', 'w_1stIn', 'w_1stWon', 'w_2ndWon',\n",
       "       'w_SvGms', 'w_bpSaved', 'w_bpFaced', 'l_ace', 'l_df', 'l_svpt',\n",
       "       'l_1stIn', 'l_1stWon', 'l_2ndWon', 'l_SvGms', 'l_bpSaved', 'l_bpFaced',\n",
       "       'winner_rank', 'winner_rank_points', 'loser_rank', 'loser_rank_points'],\n",
       "      dtype='object')"
      ]
     },
     "execution_count": 4,
     "metadata": {},
     "output_type": "execute_result"
    }
   ],
   "source": [
    "wta.columns"
   ]
  },
  {
   "cell_type": "code",
   "execution_count": 5,
   "id": "2eaebef1-0156-40a0-a781-674e1f17128c",
   "metadata": {},
   "outputs": [],
   "source": [
    "wta = wta[wta['winner_hand'] != wta['loser_hand']]"
   ]
  },
  {
   "cell_type": "code",
   "execution_count": 6,
   "id": "6e8c2b2e-d840-4b50-937d-b6ffe87282d3",
   "metadata": {},
   "outputs": [
    {
     "name": "stdout",
     "output_type": "stream",
     "text": [
      "winner_hand\n",
      "R    402\n",
      "L    251\n",
      "U    118\n",
      "Name: count, dtype: int64\n"
     ]
    }
   ],
   "source": [
    "left_w = wta['winner_hand'].value_counts()\n",
    "print(left_w)"
   ]
  },
  {
   "cell_type": "code",
   "execution_count": 7,
   "id": "ed853dad-36b9-48be-92e7-cb6fab0a3893",
   "metadata": {},
   "outputs": [],
   "source": [
    "wta = wta[wta['winner_hand'] != 'U']"
   ]
  },
  {
   "cell_type": "code",
   "execution_count": 8,
   "id": "8a5c6ba9-0726-4b6d-b1d7-9fb6cd9e7613",
   "metadata": {},
   "outputs": [],
   "source": [
    "wta = wta[wta['loser_hand'] != 'U']"
   ]
  },
  {
   "cell_type": "code",
   "execution_count": 9,
   "id": "afae3a74-9271-41d8-b7ce-3e3271089ae7",
   "metadata": {},
   "outputs": [
    {
     "name": "stdout",
     "output_type": "stream",
     "text": [
      "winner_hand\n",
      "L    229\n",
      "R    228\n",
      "Name: count, dtype: int64\n"
     ]
    }
   ],
   "source": [
    "left_w = wta['winner_hand'].value_counts()\n",
    "print(left_w)"
   ]
  },
  {
   "cell_type": "code",
   "execution_count": 10,
   "id": "9bcc6a0f-06bb-415e-b37e-74326fff540f",
   "metadata": {},
   "outputs": [
    {
     "data": {
      "image/png": "[encoded data removed]",
      "text/plain": [
       "<Figure size 640x480 with 1 Axes>"
      ]
     },
     "metadata": {},
     "output_type": "display_data"
    }
   ],
   "source": [
    "right_w = len(wta)-left_w\n",
    "# Assuming you have already calculated left_w (count of 'L' values)\n",
    "labels = ['R', 'L']\n",
    "colors = ['#66b3ff', '#99ff99']  # Blue for 'R', Green for 'L'\n",
    "\n",
    "plt.pie(right_w, labels=labels, colors=colors, autopct='%1.1f%%', startangle=90)\n",
    "plt.title('Distribution of Winner Hand')\n",
    "plt.show()"
   ]
  },
  {
   "cell_type": "code",
   "execution_count": null,
   "id": "2af1d618-1bfb-4dc9-914b-cc4644b30e8e",
   "metadata": {},
   "outputs": [],
   "source": []
  }
 ],
 "metadata": {
  "kernelspec": {
   "display_name": "Python 3 (ipykernel)",
   "language": "python",
   "name": "python3"
  },
  "language_info": {
   "codemirror_mode": {
    "name": "ipython",
    "version": 3
   },
   "file_extension": ".py",
   "mimetype": "text/x-python",
   "name": "python",
   "nbconvert_exporter": "python",
   "pygments_lexer": "ipython3",
   "version": "3.11.5"
  }
 },
 "nbformat": 4,
 "nbformat_minor": 5
}
